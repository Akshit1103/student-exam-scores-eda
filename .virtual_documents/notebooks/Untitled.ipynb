import pandas as pd
import numpy as np
import matplotlib.pyplot as plt
import seaborn as sns
from scipy import stats
import warnings
warnings.filterwarnings('ignore')


# Set Style
plt.style.use('seaborn-v0_8-whitegrid')
sns.set_style("whitegrid")
sns.set_palette("husl")
%matplotlib inline


# Load data
df = pd.read_csv('../data/student_exam_scores.csv')
print(f"Dataset shape: {df.shape}")

# Display basic information
print("\n=== Dataset Overview ===")
print(df.info())

print("\n=== First 5 rows ===")
print(df.head())

print("\n=== Descriptive Statistics ===")
print(df.describe())


# Check for missing values
print("\n=== Missing Values ===")
print(df.isnull().sum())

# Check for duplicates
print("\n=== Duplicate Rows ===")
print(f"Number of duplicate rows: {df.duplicated().sum()}")





# 1. Distribution of exam scores
plt.figure(figsize=(10, 6))
sns.histplot(df['exam_score'], kde=True, bins=20)
plt.title('Distribution of Exam Scores')
plt.xlabel('Exam Score')
plt.ylabel('Frequency')
plt.show()


# 2. Correlation matrix
plt.figure(figsize=(10, 8))
correlation_matrix = df.drop('student_id', axis=1).corr()
sns.heatmap(correlation_matrix, annot=True, cmap='coolwarm', center=0)
plt.title('Correlation Matrix')
plt.tight_layout()
plt.savefig('../reports/figures/correlation_matrix.png')
plt.show()


# 3. Pairplot of all numerical features
sns.pairplot(df.drop('student_id', axis=1))
plt.suptitle('Pairplot of Features', y=1.02)
plt.savefig('../reports/figures/pairplot.png')
plt.show()


# 4. Distribution of each feature
fig, axes = plt.subplots(2, 3, figsize=(15, 10))
features = ['hours_studied', 'sleep_hours', 'attendance_percent', 'previous_scores', 'exam_score']

for i, feature in enumerate(features):
    row, col = i // 3, i % 3
    sns.histplot(df[feature], kde=True, ax=axes[row, col])
    axes[row, col].set_title(f'Distribution of {feature.replace("_", " ").title()}')

plt.tight_layout()
plt.savefig('../reports/figures/feature_distributions.png')
plt.show()


# 5. Relationship between features and exam score
fig, axes = plt.subplots(2, 2, figsize=(15, 12))

# Hours studied vs Exam score
sns.scatterplot(data=df, x='hours_studied', y='exam_score', ax=axes[0, 0])
axes[0, 0].set_title('Hours Studied vs Exam Score')

# Sleep hours vs Exam score
sns.scatterplot(data=df, x='sleep_hours', y='exam_score', ax=axes[0, 1])
axes[0, 1].set_title('Sleep Hours vs Exam Score')

# Attendance vs Exam score
sns.scatterplot(data=df, x='attendance_percent', y='exam_score', ax=axes[1, 0])
axes[1, 0].set_title('Attendance Percentage vs Exam Score')

# Previous scores vs Exam score
sns.scatterplot(data=df, x='previous_scores', y='exam_score', ax=axes[1, 1])
axes[1, 1].set_title('Previous Scores vs Exam Score')

plt.tight_layout()
plt.savefig('../reports/figures/scatter_matrix.png')
plt.show()


# 6. Boxplots to identify outliers
fig, axes = plt.subplots(2, 3, figsize=(15, 10))
features = ['hours_studied', 'sleep_hours', 'attendance_percent', 'previous_scores', 'exam_score']

for i, feature in enumerate(features):
    row, col = i // 3, i % 3
    sns.boxplot(y=df[feature], ax=axes[row, col])
    axes[row, col].set_title(f'Boxplot of {feature.replace("_", " ").title()}')

plt.tight_layout()
plt.show()


# 7. Statistical analysis
print("\n=== Correlation with Exam Score ===")
correlations = df.drop('student_id', axis=1).corr()['exam_score'].sort_values(ascending=False)
print(correlations)


# 8. Top and bottom performers analysis
top_10 = df.nlargest(10, 'exam_score')
bottom_10 = df.nsmallest(10, 'exam_score')

print("\n=== Top 10 Performers Statistics ===")
# Exclude student_id from the mean calculation
print(top_10.drop('student_id', axis=1).mean())

print("\n=== Bottom 10 Performers Statistics ===")
print(bottom_10.drop('student_id', axis=1).mean())

# Alternatively, you can specify only the numerical columns you want
print("\n=== Top 10 Performers (Selected Features) ===")
selected_features = ['hours_studied', 'sleep_hours', 'attendance_percent', 'previous_scores', 'exam_score']
print(top_10[selected_features].mean())

print("\n=== Bottom 10 Performers (Selected Features) ===")
print(bottom_10[selected_features].mean())


# 9. Sleep hours analysis
print("\n=== Performance by Sleep Hours ===")
sleep_bins = [0, 5, 7, 9, 12]
sleep_labels = ['Low (<5)', 'Moderate (5-7)', 'Optimal (7-9)', 'High (>9)']
df['sleep_category'] = pd.cut(df['sleep_hours'], bins=sleep_bins, labels=sleep_labels)

sleep_stats = df.groupby('sleep_category')['exam_score'].agg(['mean', 'count'])
print(sleep_stats)


# 10. Study hours analysis
print("\n=== Performance by Study Hours ===")
study_bins = [0, 3, 6, 9, 13]
study_labels = ['Low (<3)', 'Moderate (3-6)', 'High (6-9)', 'Very High (>9)']
df['study_category'] = pd.cut(df['hours_studied'], bins=study_bins, labels=study_labels)

study_stats = df.groupby('study_category')['exam_score'].agg(['mean', 'count'])
print(study_stats)


# Save processed data
df.to_csv('../data/student_exam_scores_processed.csv', index=False)

print("\n=== EDA Complete ===")



